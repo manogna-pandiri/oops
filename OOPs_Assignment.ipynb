{
  "nbformat": 4,
  "nbformat_minor": 0,
  "metadata": {
    "colab": {
      "provenance": []
    },
    "kernelspec": {
      "name": "python3",
      "display_name": "Python 3"
    },
    "language_info": {
      "name": "python"
    }
  },
  "cells": [
    {
      "cell_type": "markdown",
      "source": [
        "## **THEORETICAL** **QUESTIONS**"
      ],
      "metadata": {
        "id": "8I4dPd8EJFu0"
      }
    },
    {
      "cell_type": "markdown",
      "source": [
        "1. What is object-oriented programing?\n",
        "A. Object-oriented programing (OOP) is a programming paradigm based on the concept of “objects”, which are instances of classes.\n",
        "\n",
        "2. What is a class in OOP?\n",
        "A.In Object-Oriented Programming (OOP), a class is a template or blueprint which is used to create objects. It defines the attributes (data) and methods (functions) that the created objects will have.\n",
        "\n",
        "3. What is an object in OOP?\n",
        "A. In Object-Oriented Programming (OOP), an object is an instance of a class. It is known as a real-world entity created using the blueprint defined by the class.\n",
        "\n",
        "4. What is the difference between abstraction and encapsulation?\n",
        "A. Abstraction and Encapsulation are both fundamental concepts in OOP.\n",
        "Abstraction refers to hiding complex implementation details and showing only the essential features of an object.\n",
        "Encapsulation means bundling data and methods into a single class and restricting direct access to some of the object’s components.\n",
        "\n",
        "5. What are the dunder methods in python?\n",
        "A. In python, dunder methods are special type of methods which are associated with double underscore.unable enable the behavior of python built-in operations like + , print() , etc.\n",
        "Examples of dunder methods are __add__, __str__, etc.\n",
        "\n",
        "6. What is the concept of inheritance in OOP?\n",
        "A.In OOPs, Inheritance is a fundamental concept where a class (called a child or subclass) inherits properties and behaviors (methods and attributes) from another class (called a parent or superclass).\n",
        "\n",
        "7. What is polymorphism in OOP?\n",
        "A. In Object-Oriented Programming (OOP), polymorphism refers to the ability of different classes to respond to the same method name in different ways.\n",
        "'Poly' means 'many' and 'morphism' means  forms.\n",
        "\n",
        "8.  How is encapsulation achieved in python?\n",
        "A. In Python, Encapsulation is the OOP concept of bundling data (attributes) and the methods that operate on that data into a single unit (a class), and restricting direct access to some of the object’s components.\n",
        "\n",
        "9. What is a constructor in python?\n",
        "A. In Python, a constructor is a special method used to initialize the attributes of an object when it is created from a class.\n",
        "\n",
        "10. What are class and static methods in python?\n",
        "A. In Python, class and statics methods are two special type of methods which are not samebas regular instance methods. These are used when you want to define behavior that's related to the class itself rather than to an individual object.\n",
        "\n",
        "11. What is Method Overloading in Python?\n",
        "A. Method overloading is the ability to define multiple methods in the same class with the same name but different parameters (number or type).\n",
        "\n",
        "12. What is method overriding in OOP?\n",
        "A. In Object-Oriented Programming (OOP), method overriding is a concept where a child class provides a specific implementation of a method that is already defined in its parent class.\n",
        "\n",
        "13.  What is property decorator in python?\n",
        "A. The property decorator in Python is used to define a method as a read-only attribute. It allows you to access methods like attributes, which improves encapsulation and makes the class interface cleaner.\n",
        "It is useful when you want to control access to an attribute, compute a value dynamically and want to protect  internal variables.\n",
        "\n",
        "14. Why is a polymorphism important in OOP?\n",
        "A. Polymorphism ( poly = many, morph = form) is a core principle of Object-Oriented Programming that allows objects of different classes to be treated as objects of a common superclass.\n",
        "\n",
        "15. What is an abstract class in python?\n",
        "A. An abstract class in python is a class that cannot be instantiated directly and is meant to be inherited by other classes. It is used to define a common interface or structure for its subclasses.\n",
        "\n",
        "16. What are advantages of OOPs?\n",
        "A. Object-Oriented Programming (OOP) offers several advantages, making code more modular,  reusable and easy to maintain and use. It allows developers to organize code using classes and objects, helping in reusability through inheritance and flexibility through polymorphism.\n",
        "\n",
        "17. What is the difference between class variable and in instance variable\n",
        "A. In Python, a class variable is shared by all instances of a class, while an instance variable is unique to each object. Class variables are defined outside any methods and hold common data for all objects, whereas instance variables are defined inside the _init_ method and store data specific to each object\n",
        "\n",
        "18. What is multiple inheritance in python?\n",
        "A. Multiple inheritance in Python allows a class to inherit from more than one parent class. This means a child class can access attributes and methods from multiple base classes, enabling code reuse from several sources. This feature makes Python powerful but should be used carefully to avoid complexity and confusion in large programs.\n",
        "\n",
        "19. Explain the purpose of '__str__' and '__repr__' methods in Python.\n",
        "A. In Python , __str__ and __repr__ are dunder methods also called as special and magic mathods. These are used to define how an object should be represented as string. __str__ returns a readable and informal string representation of the object. While __repr__ returns an unambiguous and detailed string.\n",
        "\n",
        "20. What is the significance of the 'super()' function in Python?\n",
        "A. In Python, the super() function is used to call a method from superclass (parent class) in a subclass (child class). It is especially used in inheritance, include multiple inheritance. It maintains code stability.\n",
        "\n",
        "21. What is the significance of the __del__ method in Python?\n",
        "A. The __del__ in python is called as delete method. It is a destructor.It is called automatically when an object is about to be destroyed that means when it is going to be deleted.\n",
        "\n",
        "22. What is the difference between @staticmethod and @classmethod in Python?\n",
        "A. Static method does not take self or cls as the first argument, it cannot access or modify the class or instance state and it behaves like a regular function inside a class. While class method takes cls as first argument, it can access or modify class level variables and it used when methods need to work with the class and not instances.\n",
        "\n",
        "23. How does polymorphism work in Python with inheritance?\n",
        "A. Polymorphism when used with inheritance, it lets sub classes override methods from a super class, enabling a single method name to perform different actions depending on the object type. This makes code more flexible and reusable, as the same interface can work with different class objects.\n",
        "\n",
        "24. What is method chaining in Python OOP?\n",
        "A. Method chaining is a technique where multiple methods are called in a single line one after another, on the same object. Each method returns the object itself (self), allowing the next method to be called immediately.\n",
        "\n",
        "25. What is the purpose of the __call__ method in Python?\n",
        "A. The __call__() gives objects function-like behavior, allowing them to be invoked as if they were regular functions. It's commonly used in decorators."
      ],
      "metadata": {
        "id": "50vt6rMLh2gw"
      }
    },
    {
      "cell_type": "markdown",
      "source": [
        "## **PRACTICAL** **QUESTIONS**"
      ],
      "metadata": {
        "id": "0M7d_j6yI5Ne"
      }
    },
    {
      "cell_type": "code",
      "execution_count": 1,
      "metadata": {
        "id": "xmve1EtMhqnP"
      },
      "outputs": [],
      "source": [
        "# 1. Create a parent class Animal with a method speak() that prints a generic message. Create a child class Dog that overrides the speak() method to print \"Bark!\".\n",
        "\n",
        "class Animal:\n",
        "    def speak(self):\n",
        "        print(\"The animal speaks.\")\n",
        "\n",
        "class Dog(Animal):\n",
        "    def speak(self):\n",
        "        print(\"The dog barks.\")"
      ]
    },
    {
      "cell_type": "code",
      "source": [
        "generic_animal = Animal()\n",
        "generic_animal.speak()"
      ],
      "metadata": {
        "colab": {
          "base_uri": "https://localhost:8080/"
        },
        "id": "eMsu--fVvmqq",
        "outputId": "45aa0a52-f286-4e6b-8dc0-381258c86e1b"
      },
      "execution_count": 2,
      "outputs": [
        {
          "output_type": "stream",
          "name": "stdout",
          "text": [
            "The animal speaks.\n"
          ]
        }
      ]
    },
    {
      "cell_type": "code",
      "source": [
        "dog = Dog()\n",
        "dog.speak()"
      ],
      "metadata": {
        "colab": {
          "base_uri": "https://localhost:8080/"
        },
        "id": "CjMJ3F38wNbg",
        "outputId": "325f5a6c-f0a3-4689-e78e-7a1de814d78f"
      },
      "execution_count": 4,
      "outputs": [
        {
          "output_type": "stream",
          "name": "stdout",
          "text": [
            "The dog barks.\n"
          ]
        }
      ]
    },
    {
      "cell_type": "code",
      "source": [
        "# 2. Write a program to create an abstract class Shape with a method area(). Derive classes Circle and Rectangle from it and implement the area() method in both.\n",
        "\n",
        "from abc import ABC, abstractmethod\n",
        "\n",
        "class Shape(ABC):\n",
        "    @abstractmethod\n",
        "    def area(self):\n",
        "        pass\n",
        "\n",
        "class Circle(Shape):\n",
        "    def __init__(self, radius):\n",
        "        self.radius = radius\n",
        "\n",
        "    def area(self):\n",
        "        return 3.14 * self.radius ** 2\n",
        "\n",
        "class Rectangle(Shape):\n",
        "    def __init__(self, width, height):\n",
        "        self.width = width\n",
        "        self.height = height\n",
        "\n",
        "    def area(self):\n",
        "        return self.width * self.height"
      ],
      "metadata": {
        "id": "pLTVUKKgvj7U"
      },
      "execution_count": 13,
      "outputs": []
    },
    {
      "cell_type": "code",
      "source": [
        "circle = Circle(5)\n",
        "rectangle = Rectangle(4, 6)"
      ],
      "metadata": {
        "id": "doP2DvnQwyGS"
      },
      "execution_count": 14,
      "outputs": []
    },
    {
      "cell_type": "code",
      "source": [
        "circle.area()"
      ],
      "metadata": {
        "colab": {
          "base_uri": "https://localhost:8080/"
        },
        "id": "2etmjYzEwyCx",
        "outputId": "74408649-2df0-4cbd-f738-241529215524"
      },
      "execution_count": 15,
      "outputs": [
        {
          "output_type": "execute_result",
          "data": {
            "text/plain": [
              "78.5"
            ]
          },
          "metadata": {},
          "execution_count": 15
        }
      ]
    },
    {
      "cell_type": "code",
      "source": [
        "rectangle.area()"
      ],
      "metadata": {
        "colab": {
          "base_uri": "https://localhost:8080/"
        },
        "id": "ufFbfFeYwx-_",
        "outputId": "a14fcb2b-e1a0-4737-eca4-f71ca59a8a7e"
      },
      "execution_count": 16,
      "outputs": [
        {
          "output_type": "execute_result",
          "data": {
            "text/plain": [
              "24"
            ]
          },
          "metadata": {},
          "execution_count": 16
        }
      ]
    },
    {
      "cell_type": "code",
      "source": [
        "# 3. Implement a multi-level inheritance scenario where a class Vehicle has an attribute type. Derive a class Car and further derive a class Electric Car that adds a battery attribute.\n",
        "\n",
        "class Vehicle:\n",
        "    def __init__(self, vehicle_type):\n",
        "        self.type = vehicle_type\n",
        "\n",
        "# Derived class from Vehicle\n",
        "class Car(Vehicle):\n",
        "    def __init__(self, vehicle_type, brand):\n",
        "        super().__init__(vehicle_type)\n",
        "        self.brand = brand\n",
        "\n",
        "# Further derived class from Car\n",
        "class ElectricCar(Car):\n",
        "    def __init__(self, vehicle_type, brand, battery_capacity):\n",
        "        super().__init__(vehicle_type, brand)\n",
        "        self.battery = battery_capacity\n",
        "\n",
        "    def display_info(self):\n",
        "        print(f\"Type: {self.type}\")\n",
        "        print(f\"Brand: {self.brand}\")\n",
        "        print(f\"Battery Capacity: {self.battery} kWh\")"
      ],
      "metadata": {
        "id": "BA33FAFlwx7o"
      },
      "execution_count": 18,
      "outputs": []
    },
    {
      "cell_type": "code",
      "source": [
        "my_electric_car = ElectricCar(\"Electric Vehicle\", \"Tesla\", 75)\n",
        "my_electric_car.display_info()"
      ],
      "metadata": {
        "colab": {
          "base_uri": "https://localhost:8080/"
        },
        "id": "3bRNY7ThxypX",
        "outputId": "882fa30f-dc72-4910-b37b-197cb90217a9"
      },
      "execution_count": 19,
      "outputs": [
        {
          "output_type": "stream",
          "name": "stdout",
          "text": [
            "Type: Electric Vehicle\n",
            "Brand: Tesla\n",
            "Battery Capacity: 75 kWh\n"
          ]
        }
      ]
    },
    {
      "cell_type": "code",
      "source": [
        "# 4. Demonstrate polymorphism by creating a base class Bird with a method fly(). Create two derived classes Sparrow and Penguin that override the fly() method.\n",
        "\n",
        "class Bird:\n",
        "    def fly(self):\n",
        "        print(\"The bird is flying.\")\n",
        "\n",
        "class Sparrow(Bird):\n",
        "    def fly(self):\n",
        "        print(\"The sparrow is flying.\")\n",
        "\n",
        "class Penguin(Bird):\n",
        "    def fly(self):\n",
        "        print(\"The penguin is not flying.\")\n"
      ],
      "metadata": {
        "id": "6AGo-S2xxyl9"
      },
      "execution_count": 20,
      "outputs": []
    },
    {
      "cell_type": "code",
      "source": [
        "bird = Bird()\n",
        "sparrow = Sparrow()\n",
        "penguin = Penguin()"
      ],
      "metadata": {
        "id": "QMvC2VQoxykM"
      },
      "execution_count": 22,
      "outputs": []
    },
    {
      "cell_type": "code",
      "source": [
        "bird.fly()"
      ],
      "metadata": {
        "colab": {
          "base_uri": "https://localhost:8080/"
        },
        "id": "aHs_fGmKxyh9",
        "outputId": "207eadb6-61b4-4184-cf54-2021a772bea9"
      },
      "execution_count": 23,
      "outputs": [
        {
          "output_type": "stream",
          "name": "stdout",
          "text": [
            "The bird is flying.\n"
          ]
        }
      ]
    },
    {
      "cell_type": "code",
      "source": [
        "sparrow.fly()"
      ],
      "metadata": {
        "colab": {
          "base_uri": "https://localhost:8080/"
        },
        "id": "5BLDKw2u1cEc",
        "outputId": "4f8086bd-8bab-4237-b755-484e8b47bcb4"
      },
      "execution_count": 24,
      "outputs": [
        {
          "output_type": "stream",
          "name": "stdout",
          "text": [
            "The sparrow is flying.\n"
          ]
        }
      ]
    },
    {
      "cell_type": "code",
      "source": [
        "penguin.fly()"
      ],
      "metadata": {
        "colab": {
          "base_uri": "https://localhost:8080/"
        },
        "id": "sRYlqjni1fDT",
        "outputId": "986a7b44-5b4c-4fff-a4a3-c69725ac1607"
      },
      "execution_count": 25,
      "outputs": [
        {
          "output_type": "stream",
          "name": "stdout",
          "text": [
            "The penguin is not flying.\n"
          ]
        }
      ]
    },
    {
      "cell_type": "code",
      "source": [
        "# 5.  Write a program to demonstrate encapsulation by creating a class BankAccount with private attributes balance and methods to deposit, withdraw, and check balance.\n",
        "\n",
        "class BankAccount:\n",
        "    def __init__(self, initial_balance=0):\n",
        "        self.__balance = initial_balance  # Private attribute\n",
        "\n",
        "    # Public method to deposit money\n",
        "    def deposit(self, amount):\n",
        "        if amount > 0:\n",
        "            self.__balance += amount\n",
        "            print(f\"Deposited: ${amount}\")\n",
        "        else:\n",
        "            print(\"Deposit amount must be positive.\")\n",
        "\n",
        "    # Public method to withdraw money\n",
        "    def withdraw(self, amount):\n",
        "        if 0 < amount <= self.__balance:\n",
        "            self.__balance -= amount\n",
        "            print(f\"Withdrew: ${amount}\")\n",
        "        else:\n",
        "            print(\"Insufficient balance or invalid amount.\")\n",
        "\n",
        "    # Public method to check balance\n",
        "    def check_balance(self):\n",
        "        print(f\"Current Balance: ${self.__balance}\")"
      ],
      "metadata": {
        "id": "1H3CZo-R2LJH"
      },
      "execution_count": 31,
      "outputs": []
    },
    {
      "cell_type": "code",
      "source": [
        "account = BankAccount(100)\n",
        "account.check_balance()\n",
        "account.deposit(50)\n",
        "account.withdraw(30)\n",
        "account.check_balance()"
      ],
      "metadata": {
        "colab": {
          "base_uri": "https://localhost:8080/"
        },
        "id": "NpNBmG3F64Or",
        "outputId": "4238aea0-8a19-4b07-a64e-80eb48069733"
      },
      "execution_count": 32,
      "outputs": [
        {
          "output_type": "stream",
          "name": "stdout",
          "text": [
            "Current Balance: $100\n",
            "Deposited: $50\n",
            "Withdrew: $30\n",
            "Current Balance: $120\n"
          ]
        }
      ]
    },
    {
      "cell_type": "code",
      "source": [
        "# 6. Demonstrate runtime polymorphism using a method play() in a base class Instrument. Derive classes Guitar and Piano that implement their own version of play()\n",
        "\n",
        "class Instrument:\n",
        "    def play(self):\n",
        "        print(\"The instrument is playing.\")\n",
        "\n",
        "class Guitar(Instrument):\n",
        "    def play(self):\n",
        "        print(\"The guitar is playing.\")\n",
        "\n",
        "class Piano(Instrument):\n",
        "    def play(self):\n",
        "      print(\"The piano is playing.\")"
      ],
      "metadata": {
        "id": "wR4_sfmF64LW"
      },
      "execution_count": 33,
      "outputs": []
    },
    {
      "cell_type": "code",
      "source": [
        "inst = Instrument()\n",
        "guitar = Guitar()\n",
        "piano = Piano()"
      ],
      "metadata": {
        "id": "K2IKsY6b64Is"
      },
      "execution_count": 34,
      "outputs": []
    },
    {
      "cell_type": "code",
      "source": [
        "guitar.play()"
      ],
      "metadata": {
        "colab": {
          "base_uri": "https://localhost:8080/"
        },
        "id": "zES6soms64F9",
        "outputId": "61f1c474-fdef-4ceb-fcf3-a3126e5c7445"
      },
      "execution_count": 35,
      "outputs": [
        {
          "output_type": "stream",
          "name": "stdout",
          "text": [
            "The guitar is playing.\n"
          ]
        }
      ]
    },
    {
      "cell_type": "code",
      "source": [
        "piano.play()"
      ],
      "metadata": {
        "colab": {
          "base_uri": "https://localhost:8080/"
        },
        "id": "Kfj3i4Zo7uH8",
        "outputId": "af98337c-3da7-49a0-aa2b-4f504a71ee47"
      },
      "execution_count": 36,
      "outputs": [
        {
          "output_type": "stream",
          "name": "stdout",
          "text": [
            "The piano is playing.\n"
          ]
        }
      ]
    },
    {
      "cell_type": "code",
      "source": [
        "# 7. Create a class MathOperations with a class method add_numbers() to add two numbers and a static method subtract_numbers() to subtract two numbers.\n",
        "\n",
        "class MathOperations:\n",
        "    @classmethod\n",
        "    def add_numbers(cls, a, b):\n",
        "        return a + b\n",
        "\n",
        "    @staticmethod\n",
        "    def subtract_numbers(a, b):\n",
        "        return a - b"
      ],
      "metadata": {
        "id": "wVEav-2N7xjM"
      },
      "execution_count": 37,
      "outputs": []
    },
    {
      "cell_type": "code",
      "source": [
        "sum_result = MathOperations.add_numbers(10, 5)\n",
        "sub_result = MathOperations.subtract_numbers(10, 5)"
      ],
      "metadata": {
        "id": "2C0XrX4m8Q3i"
      },
      "execution_count": 40,
      "outputs": []
    },
    {
      "cell_type": "code",
      "source": [
        "print(\"Sum:\", sum_result)\n",
        "print(\"Difference:\", sub_result)"
      ],
      "metadata": {
        "colab": {
          "base_uri": "https://localhost:8080/"
        },
        "id": "ho9p-TN88b_B",
        "outputId": "b522d7fb-5916-45b2-bca5-316da8e789df"
      },
      "execution_count": 41,
      "outputs": [
        {
          "output_type": "stream",
          "name": "stdout",
          "text": [
            "Sum: 15\n",
            "Difference: 5\n"
          ]
        }
      ]
    },
    {
      "cell_type": "code",
      "source": [
        "# 8. Implement a class Person with a class method to count the total number of persons created.\n",
        "\n",
        "class Person:\n",
        "    total_persons = 0\n",
        "\n",
        "    def __init__(self, name):\n",
        "        self.name = name\n",
        "        Person.total_persons += 1\n",
        "\n",
        "    @classmethod\n",
        "    def get_total_persons(cls):\n",
        "        return cls.total_persons"
      ],
      "metadata": {
        "id": "uc65cDaU80Ul"
      },
      "execution_count": 43,
      "outputs": []
    },
    {
      "cell_type": "code",
      "source": [
        "per = Person(\"John\")"
      ],
      "metadata": {
        "id": "myVFqyWs9A5W"
      },
      "execution_count": 44,
      "outputs": []
    },
    {
      "cell_type": "code",
      "source": [
        "per.get_total_persons()"
      ],
      "metadata": {
        "colab": {
          "base_uri": "https://localhost:8080/"
        },
        "id": "H7BMl1DN9A19",
        "outputId": "6f63187a-a86e-4553-8f8b-4f62aa92270a"
      },
      "execution_count": 45,
      "outputs": [
        {
          "output_type": "execute_result",
          "data": {
            "text/plain": [
              "1"
            ]
          },
          "metadata": {},
          "execution_count": 45
        }
      ]
    },
    {
      "cell_type": "code",
      "source": [
        "# 9. Write a class Fraction with attributes numerator and denominator. Override the str method to display the fraction as \"numerator/denominator\".\n",
        "\n",
        "class Fraction:\n",
        "    def __init__(self, numerator, denominator):\n",
        "        self.numerator = numerator\n",
        "        if denominator == 0:\n",
        "            raise ValueError(\"Denominator cannot be zero.\")\n",
        "        self.denominator = denominator\n",
        "\n",
        "    def __str__(self):\n",
        "        return f\"{self.numerator}/{self.denominator}\""
      ],
      "metadata": {
        "id": "hIFdpS1o9AyE"
      },
      "execution_count": 46,
      "outputs": []
    },
    {
      "cell_type": "code",
      "source": [
        "frac1 = Fraction(3, 4)\n",
        "print(frac1)"
      ],
      "metadata": {
        "colab": {
          "base_uri": "https://localhost:8080/"
        },
        "id": "bjS3KQpg9cXG",
        "outputId": "67e7b24a-58a1-442d-84c8-51a8c94f6756"
      },
      "execution_count": 47,
      "outputs": [
        {
          "output_type": "stream",
          "name": "stdout",
          "text": [
            "3/4\n"
          ]
        }
      ]
    },
    {
      "cell_type": "code",
      "source": [
        "frac2 = Fraction(7, 1)\n",
        "print(frac2)"
      ],
      "metadata": {
        "colab": {
          "base_uri": "https://localhost:8080/"
        },
        "id": "Nnf-dKlo9gx2",
        "outputId": "421934b9-05fa-4d23-8066-6be70f6f2c87"
      },
      "execution_count": 48,
      "outputs": [
        {
          "output_type": "stream",
          "name": "stdout",
          "text": [
            "7/1\n"
          ]
        }
      ]
    },
    {
      "cell_type": "code",
      "source": [
        "# 10. Demonstrate operator overloading by creating a class Vector and overriding the add method to add two vectors.\n",
        "\n",
        "class Vector:\n",
        "    def __init__(self, x, y):\n",
        "        self.x = x\n",
        "        self.y = y\n",
        "\n",
        "    def __add__(self, other):\n",
        "        if isinstance(other, Vector):\n",
        "            return Vector(self.x + other.x, self.y + other.y)\n",
        "        return NotImplemented\n",
        "\n",
        "    def __str__(self):\n",
        "        return f\"Vector({self.x}, {self.y})\""
      ],
      "metadata": {
        "id": "esBTI1GR9krQ"
      },
      "execution_count": 49,
      "outputs": []
    },
    {
      "cell_type": "code",
      "source": [
        "v1 = Vector(2, 3)\n",
        "v2 = Vector(4, 5)\n",
        "v3 = v1 + v2"
      ],
      "metadata": {
        "id": "qWRxMA2R-Srb"
      },
      "execution_count": 50,
      "outputs": []
    },
    {
      "cell_type": "code",
      "source": [
        "print(v3)"
      ],
      "metadata": {
        "colab": {
          "base_uri": "https://localhost:8080/"
        },
        "id": "kMLKe0tu-YJh",
        "outputId": "345e7e31-8e2e-46c8-9ea6-df1ed3868e6e"
      },
      "execution_count": 52,
      "outputs": [
        {
          "output_type": "stream",
          "name": "stdout",
          "text": [
            "Vector(6, 8)\n"
          ]
        }
      ]
    },
    {
      "cell_type": "code",
      "source": [
        "# 11. Create a class Person with attributes name and age. Add a method greet() that prints \"Hello, my name is {name} and I am {age} years old.\"\n",
        "\n",
        "class Person:\n",
        "    def __init__(self, name, age):\n",
        "        self.name = name\n",
        "        self.age = age\n",
        "\n",
        "    def greet(self):\n",
        "        print(f\"Hello, my name is {self.name} and I am {self.age} years old.\")"
      ],
      "metadata": {
        "id": "HRLITV-3-smj"
      },
      "execution_count": 54,
      "outputs": []
    },
    {
      "cell_type": "code",
      "source": [
        "person = Person(\"John\", 25)\n",
        "person.greet()"
      ],
      "metadata": {
        "colab": {
          "base_uri": "https://localhost:8080/"
        },
        "id": "p3Y1Tf_--2Dl",
        "outputId": "c8ff8975-fdd5-4f31-cc06-2d5787d8db50"
      },
      "execution_count": 55,
      "outputs": [
        {
          "output_type": "stream",
          "name": "stdout",
          "text": [
            "Hello, my name is John and I am 25 years old.\n"
          ]
        }
      ]
    },
    {
      "cell_type": "code",
      "source": [
        "# 12. Implement a class Student with attributes name and grades. Create a method average_grade() to compute the average of the grades.\n",
        "\n",
        "class Student:\n",
        "    def __init__(self, name, grades):\n",
        "        self.name = name\n",
        "        self.grades = grades  # should be a list of numbers\n",
        "\n",
        "    def average_grade(self):\n",
        "        if not self.grades:\n",
        "            return 0  # Avoid division by zero\n",
        "        return sum(self.grades) / len(self.grades)"
      ],
      "metadata": {
        "id": "YakSiH1w_D6Q"
      },
      "execution_count": 56,
      "outputs": []
    },
    {
      "cell_type": "code",
      "source": [
        "student1 = Student(\"Alice\", [85, 90, 78])"
      ],
      "metadata": {
        "id": "p0eN3Yac_ZQB"
      },
      "execution_count": 57,
      "outputs": []
    },
    {
      "cell_type": "code",
      "source": [
        "student1.average_grade()"
      ],
      "metadata": {
        "colab": {
          "base_uri": "https://localhost:8080/"
        },
        "id": "KTLdtM2PAfBR",
        "outputId": "3a4522b9-e2d8-48be-b9f8-a164665d2ef2"
      },
      "execution_count": 58,
      "outputs": [
        {
          "output_type": "execute_result",
          "data": {
            "text/plain": [
              "84.33333333333333"
            ]
          },
          "metadata": {},
          "execution_count": 58
        }
      ]
    },
    {
      "cell_type": "code",
      "source": [
        "# 13. Create a class Rectangle with methods set_dimensions() to set the dimensions and area() to calculate the area.\n",
        "\n",
        "class Rectangle:\n",
        "    def __init__(self):\n",
        "        self.width = 0\n",
        "        self.length = 0\n",
        "\n",
        "    def set_dimensions(self, width, length):\n",
        "        self.width = width\n",
        "        self.length = length\n",
        "\n",
        "    def area(self):\n",
        "        return self.length * self.width"
      ],
      "metadata": {
        "id": "aujOjGClAzjL"
      },
      "execution_count": 69,
      "outputs": []
    },
    {
      "cell_type": "code",
      "source": [
        "rect = Rectangle()\n",
        "rect.set_dimensions(5, 10)"
      ],
      "metadata": {
        "id": "Nj9negY8A-kv"
      },
      "execution_count": 70,
      "outputs": []
    },
    {
      "cell_type": "code",
      "source": [
        "rect.area()"
      ],
      "metadata": {
        "colab": {
          "base_uri": "https://localhost:8080/"
        },
        "id": "axIR0dDIBA9j",
        "outputId": "c7895da2-b9d3-4787-82d6-17b4602a45e7"
      },
      "execution_count": 71,
      "outputs": [
        {
          "output_type": "execute_result",
          "data": {
            "text/plain": [
              "50"
            ]
          },
          "metadata": {},
          "execution_count": 71
        }
      ]
    },
    {
      "cell_type": "code",
      "source": [
        "# 14. Create a class Employee with a method calculate_salary() that computes the salary based on hours worked and hourly rate. Create a derived class Manager that adds a bonus to the salary.\n",
        "\n",
        "class Employee:\n",
        "    def __init__(self, name, hours_worked, hourly_rate):\n",
        "        self.name = name\n",
        "        self.hours_worked = hours_worked\n",
        "        self.hourly_rate = hourly_rate\n",
        "\n",
        "    def calculate_salary(self):\n",
        "        return self.hours_worked * self.hourly_rate\n",
        "\n",
        "class Manager(Employee):\n",
        "    def __init__(self, name, hours_worked, hourly_rate, bonus):\n",
        "        super().__init__(name, hours_worked, hourly_rate)\n",
        "        self.bonus = bonus\n",
        "\n",
        "    def calculate_salary(self):\n",
        "        base_salary = super().calculate_salary()\n",
        "        return base_salary + self.bonus"
      ],
      "metadata": {
        "id": "uqp00VXGCRCS"
      },
      "execution_count": 73,
      "outputs": []
    },
    {
      "cell_type": "code",
      "source": [
        "emp = Employee(\"John\", 40, 20)"
      ],
      "metadata": {
        "id": "1oMSmm_QCfzB"
      },
      "execution_count": 74,
      "outputs": []
    },
    {
      "cell_type": "code",
      "source": [
        "emp.calculate_salary()"
      ],
      "metadata": {
        "colab": {
          "base_uri": "https://localhost:8080/"
        },
        "id": "czkfEDB2DOKZ",
        "outputId": "79f8edfe-081b-4ed6-b0fa-72fb5164f6fd"
      },
      "execution_count": 75,
      "outputs": [
        {
          "output_type": "execute_result",
          "data": {
            "text/plain": [
              "800"
            ]
          },
          "metadata": {},
          "execution_count": 75
        }
      ]
    },
    {
      "cell_type": "code",
      "source": [
        "# 15.  Create a class Product with attributes name, price, and quantity. Implement a method total_price() that calculates the total price of the product.\n",
        "\n",
        "class Product:\n",
        "    def __init__(self, name, price, quantity):\n",
        "        self.name = name\n",
        "        self.price = price\n",
        "        self.quantity = quantity\n",
        "\n",
        "    def total_price(self):\n",
        "        return self.price * self.quantity"
      ],
      "metadata": {
        "id": "dSOU14R2DTUe"
      },
      "execution_count": 79,
      "outputs": []
    },
    {
      "cell_type": "code",
      "source": [
        "product1 = Product(\"Laptop\", 1200, 2)\n",
        "print(f\"Total price for {product1.quantity} {product1.name}(s): ${product1.total_price()}\")"
      ],
      "metadata": {
        "colab": {
          "base_uri": "https://localhost:8080/"
        },
        "id": "FPqt-C2HDhPV",
        "outputId": "cc325846-28ba-4234-fa53-5a7110c87fda"
      },
      "execution_count": 82,
      "outputs": [
        {
          "output_type": "stream",
          "name": "stdout",
          "text": [
            "Total price for 2 Laptop(s): $2400\n"
          ]
        }
      ]
    },
    {
      "cell_type": "code",
      "source": [
        "# 16. Create a class Animal with an abstract method sound(). Create two derived classes Cow and Sheep that implement the sound() method.\n",
        "\n",
        "from abc import ABC, abstractmethod\n",
        "\n",
        "class Animal(ABC):\n",
        "    @abstractmethod\n",
        "    def sound(self):\n",
        "        pass\n",
        "\n",
        "class Cow(Animal):\n",
        "    def sound(self):\n",
        "        return \"Moo\"\n",
        "\n",
        "class Sheep(Animal):\n",
        "    def sound(self):\n",
        "        return \"Baa\""
      ],
      "metadata": {
        "id": "ZgrDQ4pvEZ8c"
      },
      "execution_count": 83,
      "outputs": []
    },
    {
      "cell_type": "code",
      "source": [
        "cow = Cow()\n",
        "sheep = Sheep()"
      ],
      "metadata": {
        "id": "bRA6_gbRFd4E"
      },
      "execution_count": 84,
      "outputs": []
    },
    {
      "cell_type": "code",
      "source": [
        "cow.sound()"
      ],
      "metadata": {
        "colab": {
          "base_uri": "https://localhost:8080/",
          "height": 36
        },
        "id": "kff_9RoXGEte",
        "outputId": "8a8547c8-9f30-48c3-dc47-ea8f07e5f69f"
      },
      "execution_count": 85,
      "outputs": [
        {
          "output_type": "execute_result",
          "data": {
            "text/plain": [
              "'Moo'"
            ],
            "application/vnd.google.colaboratory.intrinsic+json": {
              "type": "string"
            }
          },
          "metadata": {},
          "execution_count": 85
        }
      ]
    },
    {
      "cell_type": "code",
      "source": [
        "sheep.sound()"
      ],
      "metadata": {
        "colab": {
          "base_uri": "https://localhost:8080/",
          "height": 36
        },
        "id": "lfQCRWq8GGxx",
        "outputId": "fe1c1c41-2f46-4b39-b759-3e575d2a624f"
      },
      "execution_count": 86,
      "outputs": [
        {
          "output_type": "execute_result",
          "data": {
            "text/plain": [
              "'Baa'"
            ],
            "application/vnd.google.colaboratory.intrinsic+json": {
              "type": "string"
            }
          },
          "metadata": {},
          "execution_count": 86
        }
      ]
    },
    {
      "cell_type": "code",
      "source": [
        "# 17. Create a class Book with attributes title, author, and year_published. Add a method get_book_info() that returns a formatted string with the book's details.\n",
        "\n",
        "class Book:\n",
        "    def __init__(self, title, author, year_published):\n",
        "        self.title = title\n",
        "        self.author = author\n",
        "        self.year_published = year_published\n",
        "    def get_book_info(self):\n",
        "      return f\"'{self.title}' by {self.author} (Published in {self.year_published})\""
      ],
      "metadata": {
        "id": "eCzVBbXFGJa_"
      },
      "execution_count": 94,
      "outputs": []
    },
    {
      "cell_type": "code",
      "source": [
        "book1 = Book(\"To Kill a Mockingbird\", \"Harper Lee\", 1960)"
      ],
      "metadata": {
        "id": "3e2Pz7mdGXnV"
      },
      "execution_count": 95,
      "outputs": []
    },
    {
      "cell_type": "code",
      "source": [
        "book1.get_book_info()"
      ],
      "metadata": {
        "colab": {
          "base_uri": "https://localhost:8080/",
          "height": 36
        },
        "id": "LDGeFR2hHHzg",
        "outputId": "db4aeac0-e531-44b8-a00d-b41eab1ce55a"
      },
      "execution_count": 96,
      "outputs": [
        {
          "output_type": "execute_result",
          "data": {
            "text/plain": [
              "\"'To Kill a Mockingbird' by Harper Lee (Published in 1960)\""
            ],
            "application/vnd.google.colaboratory.intrinsic+json": {
              "type": "string"
            }
          },
          "metadata": {},
          "execution_count": 96
        }
      ]
    },
    {
      "cell_type": "code",
      "source": [
        "# 18.  Create a class House with attributes address and price. Create a derived class Mansion that adds an attribute number_of_rooms.\n",
        "\n",
        "class House:\n",
        "    def __init__(self, address, price):\n",
        "        self.address = address\n",
        "        self.price = price\n",
        "    def get_info(self):\n",
        "        return f\"Address: {self.address}, Price: ${self.price}\"\n",
        "\n",
        "class Mancion(House):\n",
        "    def __init__(self, address, price, number_of_rooms):\n",
        "        super().__init__(address, price)\n",
        "        self.number_of_rooms = number_of_rooms\n",
        "\n",
        "    def get_info(self):\n",
        "        return f\"{super().get_info()}, Rooms: {self.number_of_rooms}\""
      ],
      "metadata": {
        "id": "HonVuoesHLZJ"
      },
      "execution_count": 101,
      "outputs": []
    },
    {
      "cell_type": "code",
      "source": [
        "house = House(\"123 Main St\", 250000)\n",
        "mans = Mancion(\"456 Elm St\", 350000, 5)"
      ],
      "metadata": {
        "id": "sJ1c10bBHaYK"
      },
      "execution_count": 102,
      "outputs": []
    },
    {
      "cell_type": "code",
      "source": [
        "house.get_info()"
      ],
      "metadata": {
        "colab": {
          "base_uri": "https://localhost:8080/",
          "height": 36
        },
        "id": "VAjbECNdHg89",
        "outputId": "270c45e7-d7ee-4320-d2d2-fa8b3f4e1b36"
      },
      "execution_count": 103,
      "outputs": [
        {
          "output_type": "execute_result",
          "data": {
            "text/plain": [
              "'Address: 123 Main St, Price: $250000'"
            ],
            "application/vnd.google.colaboratory.intrinsic+json": {
              "type": "string"
            }
          },
          "metadata": {},
          "execution_count": 103
        }
      ]
    },
    {
      "cell_type": "code",
      "source": [
        "mans.get_info()"
      ],
      "metadata": {
        "colab": {
          "base_uri": "https://localhost:8080/",
          "height": 36
        },
        "id": "_XfDu1EjIbOx",
        "outputId": "bc2aaec0-80a1-4a2f-af25-3c17cb96417a"
      },
      "execution_count": 105,
      "outputs": [
        {
          "output_type": "execute_result",
          "data": {
            "text/plain": [
              "'Address: 456 Elm St, Price: $350000, Rooms: 5'"
            ],
            "application/vnd.google.colaboratory.intrinsic+json": {
              "type": "string"
            }
          },
          "metadata": {},
          "execution_count": 105
        }
      ]
    }
  ]
}